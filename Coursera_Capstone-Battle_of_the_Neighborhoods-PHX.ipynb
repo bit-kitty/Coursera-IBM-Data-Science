{
    "nbformat_minor": 1, 
    "cells": [
        {
            "source": "![Image of Phoenix from Mountain Trail](https://www.dropbox.com/s/c1rsvd4tfp4vdvr/KfBjNBvg.png?raw=true \"Title\")\n\n<h1 align=center><font size = 5>Coursera Capstone: The Battle of Neighborhoods in Phoenix</font></h1>\n    \n***", 
            "cell_type": "markdown", 
            "metadata": {
                "collapsed": true
            }
        }, 
        {
            "source": "## Introduction\n\nBased on Wikipedia (https://en.wikipedia.org/wiki/Phoenix_metropolitan_area) and an article published in 2017 on AZ Central (https://www.azcentral.com/story/news/local/phoenix/2017/06/11/phoenix-nation-5th-largest-but-real-city/369917001/), Phoenix is one of the fastest growing metro areas within recent years and earned \u201ctwo national distinctions with the U.S. Census Bureau numbers released Thursday [June 8, 2017]: Fifth-largest city and fastest-growing city.\u201d However, due to its vast land mass within the [Metropolitan Statistical Area (MSA)](https://en.wikipedia.org/wiki/Metropolitan_area) boundaries, this got some thinking it to be rather atypical of a \u201ctrue city,\u201d like New York City. Key neighborhoods being miles apart don\u2019t fit together well for people seeking a traditional sense of one big city. Having been in the area a short while, I find that the uniqueness of the area is very much appreciated in recent urban developments that have injected pieces of the real city in many neighborhoods surrounding the urban core.  This adds a different kind of urban flavor that takes a typical city adventure beyond a congested concrete jungle.", 
            "cell_type": "markdown", 
            "metadata": {}
        }, 
        {
            "source": "## Problem Statement\n\nIf the types of opinions described above remains pervasive, it may discourage some city seekers like new families and young professionals to dismiss the opportunities that lies within Arizona. One way to help new prospects better appreciate the area is to explore the various neighborhoods with geolocation data from Foursquare and supplemental local datapoints to understand the composition of top activities, popular venues, and businesses within key neighborhoods. We can then compare these areas to those within a big city like New York City for context. With growth, comes economic development and increased business opportunities. Any similarities/differences found during the exploration could be leveraged to help identify potential pockets of opportunities. Let's see what the data can tell us during this data exploration exercise.", 
            "cell_type": "markdown", 
            "metadata": {}
        }, 
        {
            "source": "## Data Sources\n\n* Foursquare Geolocation Datasets will be used to pull sample sets of top venues within the radius of the main metro areas.  Categories of these venues will be used to cluster like activities and provide some contextual understanding within each neighborhood based on matches to the dataset with neighborhoods and their identified lat/long coordinates.\n    * Phoenix (County: Maricopa)\n    * New York City (Borough: Manhattan)  \n\n\n* US State-County Latitutude/Longitude Dataset will provide the set of county zip codes along with to their lat/long coordinates that are needed to match to the Foursquare data.  \n\n\n* Supplemental manual neighborhood identification lookups will provide name identification of Phoenix neighborhoods since a set list is not readily available online. Any additional local statistics if pertinent to the analysis may be included from Phoenix local government sites.\n    * US Zip Code lookups for neighborhood names\n    * Local Demographics Data  \n\n\n* Census.gov will provide some national census related business statistics at the zip code level that may be pertinent to the evaluation exercise.\n    * Business Statistics", 
            "cell_type": "markdown", 
            "metadata": {}
        }, 
        {
            "execution_count": null, 
            "cell_type": "code", 
            "metadata": {}, 
            "outputs": [], 
            "source": ""
        }
    ], 
    "metadata": {
        "kernelspec": {
            "display_name": "Python 3.5", 
            "name": "python3", 
            "language": "python"
        }, 
        "language_info": {
            "mimetype": "text/x-python", 
            "nbconvert_exporter": "python", 
            "version": "3.5.5", 
            "name": "python", 
            "file_extension": ".py", 
            "pygments_lexer": "ipython3", 
            "codemirror_mode": {
                "version": 3, 
                "name": "ipython"
            }
        }
    }, 
    "nbformat": 4
}